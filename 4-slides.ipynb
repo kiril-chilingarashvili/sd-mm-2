{
 "cells": [
  {
   "cell_type": "markdown",
   "id": "b72d2367-4631-4cfc-9401-0dd0269e2dea",
   "metadata": {},
   "source": [
    "# Topic 4: Combinatorics"
   ]
  },
  {
   "cell_type": "markdown",
   "id": "545995a3-3ae2-4096-b6c5-78fd8fc4c4e3",
   "metadata": {},
   "source": [
    "- ## [4.1 Permutations](./4.1_Combinaorics_-_Permutations.pdf)\n",
    "- ## [4.2 Partial Permutations](./4.2_Partial_Permutations.pdf)\n",
    "- ## [4.4_Combinations](./4.4_Combinatorics_-_Combinations_-v2.pdf)"
   ]
  },
  {
   "cell_type": "markdown",
   "id": "1b585b16-66ee-4b84-aa14-a31ba4dca6bd",
   "metadata": {},
   "source": [
    "## Number of permutations of an $n$-set is $n!$\n",
    "\n",
    "## Stirling's approximation\n",
    "## $$ n! \\sim \\sqrt{2\\pi n} \\left( \\frac{n}{e} \\right)^n $$"
   ]
  },
  {
   "cell_type": "markdown",
   "id": "5c932841-19d9-4d65-b046-9f4264b1026a",
   "metadata": {},
   "source": [
    "## $k$-permutation of $[n]$ (Length-$k$ sequences over $[n]$):\n",
    "## - with repetion: $n^k$\n",
    "## - without repetition: $n^{\\underline{k}} = \\frac{n!}{(n-k)!} \\quad( k-\\text{falling power of}\\, n)$"
   ]
  },
  {
   "cell_type": "markdown",
   "id": "573427fa-c9be-4be4-affb-c3796679b0da",
   "metadata": {},
   "source": [
    "## The number of ***derangements*** of a set of size $n$ is known as the subfactorial of $n$ or the $n$-th derangement number or $n$-th de Montmort number. Notation: $!n$.\n",
    "\n",
    "## For $n>0$, the subfactorial $!n$ equals the nearest integer to $\\displaystyle \\frac{n!}{e}$, where $n!$ denotes the factorial of $n$ and $e$ is Euler's number."
   ]
  },
  {
   "cell_type": "markdown",
   "id": "291aeec5-ecd6-47e5-acfc-94954e563910",
   "metadata": {},
   "source": []
  }
 ],
 "metadata": {
  "kernelspec": {
   "display_name": "Python 3",
   "language": "python",
   "name": "python3"
  },
  "language_info": {
   "codemirror_mode": {
    "name": "ipython",
    "version": 3
   },
   "file_extension": ".py",
   "mimetype": "text/x-python",
   "name": "python",
   "nbconvert_exporter": "python",
   "pygments_lexer": "ipython3",
   "version": "3.8.8"
  }
 },
 "nbformat": 4,
 "nbformat_minor": 5
}

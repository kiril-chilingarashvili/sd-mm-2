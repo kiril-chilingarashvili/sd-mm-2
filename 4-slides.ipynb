{
 "cells": [
  {
   "cell_type": "markdown",
   "id": "b72d2367-4631-4cfc-9401-0dd0269e2dea",
   "metadata": {},
   "source": [
    "# Topic 4: Combinatorics"
   ]
  },
  {
   "cell_type": "markdown",
   "id": "545995a3-3ae2-4096-b6c5-78fd8fc4c4e3",
   "metadata": {},
   "source": [
    "- ## [Permutations](./4.1_Combinaorics_-_Permutations.pdf)\n",
    "- ## [Partial Permutations](./4.2_Partial_Permutations.pdf)\n",
    "- ## [Combinations](./4.4_Combinatorics_-_Combinations_-v2.pdf)\n",
    "- ## [Combinations - Applications](./4.4_Applications_of_Binomial_Coefficients.pdf)"
   ]
  },
  {
   "cell_type": "markdown",
   "id": "1b585b16-66ee-4b84-aa14-a31ba4dca6bd",
   "metadata": {},
   "source": [
    "## Number of permutations of an $n$-set is $n!$\n",
    "\n",
    "## Stirling's approximation\n",
    "## $$ n! \\sim \\sqrt{2\\pi n} \\left( \\frac{n}{e} \\right)^n $$"
   ]
  },
  {
   "cell_type": "markdown",
   "id": "5c932841-19d9-4d65-b046-9f4264b1026a",
   "metadata": {},
   "source": [
    "## $k$-permutations of $[n]$ (Length-$k$ sequences over $[n]$):\n",
    "### - with repetion: \n",
    "## $$n^k$$\n",
    "### - without repetition: \n",
    "## $$n^{\\underline{k}} = \\frac{n!}{(n-k)!} \\quad( k-\\text{falling power of}\\, n, \\, \\text{order does matter})$$"
   ]
  },
  {
   "cell_type": "markdown",
   "id": "573427fa-c9be-4be4-affb-c3796679b0da",
   "metadata": {},
   "source": [
    "## The number of ***derangements*** of a set of size $n$ is known as the subfactorial of $n$ or the $n$-th derangement number or $n$-th de Montmort number. Notation: $!n$.\n",
    "\n",
    "## For $n>0$, the subfactorial $!n$ equals the nearest integer to $\\displaystyle \\frac{n!}{e}$, where $n!$ denotes the factorial of $n$ and $e$ is Euler's number."
   ]
  },
  {
   "cell_type": "markdown",
   "id": "291aeec5-ecd6-47e5-acfc-94954e563910",
   "metadata": {},
   "source": [
    "## Calculating binomial coefficients ($k$-subsets, order does not matter)\n",
    "## $$ {n \\choose k} := \\left| { [n] \\choose k } \\right| = \\frac{n^{\\underline{k}}}{k!} = \\frac{n!}{k!(n-k)!} = {n \\choose {n-k}} := \\left| { [n] \\choose {n-k} } \\right| $$"
   ]
  },
  {
   "cell_type": "markdown",
   "id": "9d002b26-57a3-4107-a381-6bdb9049cba8",
   "metadata": {},
   "source": [
    "## Pascal's Rule (Pascal's Identity):\n",
    "## $$ { {n-1} \\choose k} + { {n-1} \\choose {k-1} } = {n \\choose k } $$\n",
    "### or\n",
    "## $$ { {n} \\choose k} + { {n} \\choose {k-1} } = { {n+1} \\choose k } $$"
   ]
  },
  {
   "cell_type": "markdown",
   "id": "d31315db-b76d-4ca2-b03e-e1fdfefff413",
   "metadata": {},
   "source": [
    "## Sum of arithmetic progression numbers as number of $k$-subsets:\n",
    "## $$ 1 + 2 + \\cdots + (n - 1) + n = \\frac{n(n+1)}{2} = {n \\choose 2} $$\n",
    "\n",
    "### ***Example***\n",
    "### How many nonempty intervals does set $\\{1,2,\\ldots,n\\}$ contain?\n",
    "### ***Solution***\n",
    "## $$ n = {n+1 \\choose 2} $$"
   ]
  },
  {
   "cell_type": "markdown",
   "id": "9a194569-b73c-47ab-aa0e-23e843f52b10",
   "metadata": {},
   "source": [
    "## Functions.\n",
    "### - A function $f: X \\to Y$ is ***injective*** or ***one-to-one*** if different elements in $X$ map to different elements in $Y$, namely,\n",
    "## $$ \\forall x \\neq x' \\in X,\\,\\, f(x) \\neq f(x') $$\n",
    "### A function $f: X \\to Y$ is ***surjective*** or ***onto*** if all elements in $Y$ are images of at least one element of $X$, namely,\n",
    "## $$ \\forall y \\in Y\\,\\, \\exists x \\in X, \\,\\, f(x) = y $$\n",
    "\n",
    "### - Number of possible functions from set $A$ to set $B$\n",
    "## $$ |F| = n^m \\quad |A| = m, |B| = n $$\n",
    "### - Number of injective functions from set $A$ to set $B$\n",
    "## $$ |F| = \\frac{n!}{(n-m)!} \\quad |A| = m, |B| = n $$\n",
    "### - Number of surjective functions from set $A$ to set $B$\n",
    "## $$ \\begin{array} {rcl}   |F| & = & \\displaystyle \\sum_{i=1}^{n} (-1)^{n-i} {n \\choose i} i^m \\\\ & = & n^m - {n \\choose 1} (n-1)^m + {n \\choose 2} (n-2)^m - {n \\choose 3} (n-3)^m  + \\cdots - {n \\choose n-1} (1)^m \\\\ & & |A| = m, |B| = n, m>n \\end{array}$$"
   ]
  },
  {
   "cell_type": "markdown",
   "id": "91bf9cf9-30ce-4a42-bf78-63a38c388231",
   "metadata": {},
   "source": []
  }
 ],
 "metadata": {
  "kernelspec": {
   "display_name": "Python 3",
   "language": "python",
   "name": "python3"
  },
  "language_info": {
   "codemirror_mode": {
    "name": "ipython",
    "version": 3
   },
   "file_extension": ".py",
   "mimetype": "text/x-python",
   "name": "python",
   "nbconvert_exporter": "python",
   "pygments_lexer": "ipython3",
   "version": "3.8.8"
  }
 },
 "nbformat": 4,
 "nbformat_minor": 5
}

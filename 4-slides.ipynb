{
 "cells": [
  {
   "cell_type": "markdown",
   "id": "b72d2367-4631-4cfc-9401-0dd0269e2dea",
   "metadata": {},
   "source": [
    "# Topic 4: Combinatorics"
   ]
  },
  {
   "cell_type": "code",
   "execution_count": 1,
   "id": "d608e1b7-dcbc-49e9-a786-dfe21b997c15",
   "metadata": {},
   "outputs": [
    {
     "data": {
      "text/html": [
       "<iframe width=\"900\" height=\"650\" src=\"./4.1_Combinaorics_-_Permutations.pdf\" frameborder=\"0\" allow=\"accelerometer; autoplay; clipboard-write; encrypted-media; gyroscope; picture-in-picture\" allowfullscreen></iframe>\n"
      ],
      "text/plain": [
       "<IPython.core.display.HTML object>"
      ]
     },
     "metadata": {},
     "output_type": "display_data"
    }
   ],
   "source": [
    "%%html\n",
    "<iframe width=\"900\" height=\"650\" src=\"./4.1_Combinaorics_-_Permutations.pdf\" frameborder=\"0\" allow=\"accelerometer; autoplay; clipboard-write; encrypted-media; gyroscope; picture-in-picture\" allowfullscreen></iframe>"
   ]
  },
  {
   "cell_type": "markdown",
   "id": "1b585b16-66ee-4b84-aa14-a31ba4dca6bd",
   "metadata": {},
   "source": [
    "## Stirling's approximation\n",
    "## $$ n! \\sim \\sqrt{2\\pi n} \\left( \\frac{n}{e} \\right)^n $$"
   ]
  },
  {
   "cell_type": "code",
   "execution_count": 2,
   "id": "4acad213-e2c2-4bdc-b472-3c32900a3bec",
   "metadata": {},
   "outputs": [
    {
     "data": {
      "text/html": [
       "<iframe width=\"900\" height=\"650\" src=\"./4.2_Partial_Permutations.pdf\" frameborder=\"0\" allow=\"accelerometer; autoplay; clipboard-write; encrypted-media; gyroscope; picture-in-picture\" allowfullscreen></iframe>\n"
      ],
      "text/plain": [
       "<IPython.core.display.HTML object>"
      ]
     },
     "metadata": {},
     "output_type": "display_data"
    }
   ],
   "source": [
    "%%html\n",
    "<iframe width=\"900\" height=\"650\" src=\"./4.2_Partial_Permutations.pdf\" frameborder=\"0\" allow=\"accelerometer; autoplay; clipboard-write; encrypted-media; gyroscope; picture-in-picture\" allowfullscreen></iframe>"
   ]
  },
  {
   "cell_type": "markdown",
   "id": "5c932841-19d9-4d65-b046-9f4264b1026a",
   "metadata": {},
   "source": []
  }
 ],
 "metadata": {
  "kernelspec": {
   "display_name": "Python 3",
   "language": "python",
   "name": "python3"
  },
  "language_info": {
   "codemirror_mode": {
    "name": "ipython",
    "version": 3
   },
   "file_extension": ".py",
   "mimetype": "text/x-python",
   "name": "python",
   "nbconvert_exporter": "python",
   "pygments_lexer": "ipython3",
   "version": "3.8.8"
  }
 },
 "nbformat": 4,
 "nbformat_minor": 5
}

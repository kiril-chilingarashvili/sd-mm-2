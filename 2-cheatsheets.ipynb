{
 "cells": [
  {
   "cell_type": "markdown",
   "id": "19040431-b76e-436a-9028-684984144aba",
   "metadata": {},
   "source": [
    "# Sets"
   ]
  },
  {
   "cell_type": "markdown",
   "id": "f7beccc8-074f-49f0-b77f-8e8ccd43efeb",
   "metadata": {},
   "source": [
    "- ## [2.1 Notation](./2.1_Notation.pdf)\n",
    "- ## [2.2 Basic Sets](./2.2_Basic_Sets.pdf)\n",
    "- ## [2.3 Venn Diagrams](./2.3_Venn_Diagrams.pdf)\n",
    "- ## [2.4 Relations](./2.4_Relations.pdf)\n",
    "- ## [2.5 Operations](./2.5_Operations.pdf)\n",
    "- ## [2.6 Cartesian Products](./2.6_Cartesian_Products.pdf)\n",
    "- ## [2.7 Russell's Paradox](./2.7_Russell_s_Paradox.pdf)"
   ]
  },
  {
   "cell_type": "markdown",
   "id": "7a964722-20ad-4856-8815-aebb3f2a0d4f",
   "metadata": {},
   "source": []
  }
 ],
 "metadata": {
  "kernelspec": {
   "display_name": "Python 3",
   "language": "python",
   "name": "python3"
  },
  "language_info": {
   "codemirror_mode": {
    "name": "ipython",
    "version": 3
   },
   "file_extension": ".py",
   "mimetype": "text/x-python",
   "name": "python",
   "nbconvert_exporter": "python",
   "pygments_lexer": "ipython3",
   "version": "3.8.8"
  }
 },
 "nbformat": 4,
 "nbformat_minor": 5
}

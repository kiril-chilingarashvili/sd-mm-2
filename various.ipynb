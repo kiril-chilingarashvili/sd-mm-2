{
 "cells": [
  {
   "cell_type": "markdown",
   "id": "5ce52a94-4ded-405a-88d8-dc2d59ad1b3d",
   "metadata": {},
   "source": [
    "# Various"
   ]
  },
  {
   "cell_type": "markdown",
   "id": "3039a11d-0a16-4e6e-b9e8-c639c6e2a032",
   "metadata": {},
   "source": []
  }
 ],
 "metadata": {
  "kernelspec": {
   "display_name": "Python 3",
   "language": "python",
   "name": "python3"
  },
  "language_info": {
   "codemirror_mode": {
    "name": "ipython",
    "version": 3
   },
   "file_extension": ".py",
   "mimetype": "text/x-python",
   "name": "python",
   "nbconvert_exporter": "python",
   "pygments_lexer": "ipython3",
   "version": "3.8.8"
  }
 },
 "nbformat": 4,
 "nbformat_minor": 5
}

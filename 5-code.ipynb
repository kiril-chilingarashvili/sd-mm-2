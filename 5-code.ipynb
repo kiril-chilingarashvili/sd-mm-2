{
 "cells": [
  {
   "cell_type": "code",
   "execution_count": 3,
   "id": "eff82187-bb9b-42a8-afcc-35519415f4ee",
   "metadata": {},
   "outputs": [
    {
     "name": "stdout",
     "output_type": "stream",
     "text": [
      "1\n",
      "10\n",
      "11\n",
      "12\n",
      "13\n",
      "14\n",
      "15\n",
      "16\n",
      "17\n",
      "18\n",
      "19\n",
      "21\n",
      "31\n",
      "41\n",
      "51\n",
      "61\n",
      "71\n",
      "81\n",
      "91\n",
      "100\n",
      "count 20\n"
     ]
    }
   ],
   "source": [
    "cnt = 0\n",
    "for x in range(101):\n",
    "    if '1' in str(x):\n",
    "        cnt += 1\n",
    "        print(x)\n",
    "print('count', cnt)"
   ]
  },
  {
   "cell_type": "code",
   "execution_count": 11,
   "id": "f17f1e55-27ad-4976-bdd4-f3da7d4b2c87",
   "metadata": {},
   "outputs": [
    {
     "name": "stdout",
     "output_type": "stream",
     "text": [
      "(1, 2, 3) 6 0\n",
      "(1, 2, 6) 9 0\n",
      "(1, 3, 5) 9 0\n",
      "(1, 5, 6) 12 0\n",
      "(2, 3, 4) 9 0\n",
      "(2, 4, 6) 12 0\n",
      "(3, 4, 5) 12 0\n",
      "(4, 5, 6) 15 0\n",
      "8 20\n"
     ]
    }
   ],
   "source": [
    "import itertools\n",
    "cnt = 0\n",
    "cnt_all = 0\n",
    "for x in itertools.combinations(range(1,7),3):\n",
    "    cnt_all += 1\n",
    "    if sum(x) % 3 == 0:\n",
    "        cnt += 1\n",
    "        print(x, sum(x), sum(x) % 3)\n",
    "print(cnt, cnt_all)"
   ]
  },
  {
   "cell_type": "code",
   "execution_count": 30,
   "id": "2f1a241d-fcb9-4eb0-bacd-a0df6a0c198d",
   "metadata": {},
   "outputs": [
    {
     "name": "stdout",
     "output_type": "stream",
     "text": [
      "52 ['A-diamonds', 'A-clubs', 'A-hearts', 'A-spades', '2-diamonds', '2-clubs', '2-hearts', '2-spades', '3-diamonds', '3-clubs', '3-hearts', '3-spades', '4-diamonds', '4-clubs', '4-hearts', '4-spades', '5-diamonds', '5-clubs', '5-hearts', '5-spades', '6-diamonds', '6-clubs', '6-hearts', '6-spades', '7-diamonds', '7-clubs', '7-hearts', '7-spades', '8-diamonds', '8-clubs', '8-hearts', '8-spades', '9-diamonds', '9-clubs', '9-hearts', '9-spades', '10-diamonds', '10-clubs', '10-hearts', '10-spades', 'J-diamonds', 'J-clubs', 'J-hearts', 'J-spades', 'Q-diamonds', 'Q-clubs', 'Q-hearts', 'Q-spades', 'K-diamonds', 'K-clubs', 'K-hearts', 'K-spades']\n",
      "all: 2598960,cnt_q_heart:249900,cnt_q:886656,cnt_h:2023203\n",
      "0.09615384615384616 0.09615384615384615\n",
      "0.34115800166220334 0.34115800166220334\n",
      "0.7784663865546219 0.7784663865546219\n"
     ]
    }
   ],
   "source": [
    "import itertools, math\n",
    "cnt_q_heart = 0 # {52-1 \\choose 5}\n",
    "cnt_q = 0 # {52-4 \\choose 5}\n",
    "cnt_h = 0 # {52-13 \\choose 5}\n",
    "cnt_all = 0 # {52 \\choose 5}\n",
    "faces = ['A', '2', '3', '4', '5', '6', '7', '8', '9', '10', 'J', 'Q', 'K']\n",
    "suits = ['diamonds', 'clubs', 'hearts', 'spades']\n",
    "omega = [f + '-' + s for f in faces for s in suits]\n",
    "hearts = set([f + '-' + 'hearts' for f in faces])\n",
    "print(len(omega), omega)\n",
    "for x in itertools.combinations(omega,5):\n",
    "    cnt_all += 1\n",
    "    if 'Q-hearts' in x:\n",
    "        cnt_q_heart += 1\n",
    "    if 'Q-hearts' in x or 'Q-clubs' in x or 'Q-spades' in x or 'Q-diamonds' in x:\n",
    "        cnt_q += 1\n",
    "    if len(hearts & set(x))>0:\n",
    "        cnt_h += 1\n",
    "print('all: %i,cnt_q_heart:%i,cnt_q:%i,cnt_h:%i'%(cnt_all,cnt_q_heart,cnt_q,cnt_h))\n",
    "print(cnt_q_heart/cnt_all, 1-math.comb(51,5)/math.comb(52,5))\n",
    "print(cnt_q/cnt_all, 1-math.comb(48,5)/math.comb(52,5))\n",
    "print(cnt_h/cnt_all, 1-math.comb(39,5)/math.comb(52,5))\n"
   ]
  },
  {
   "cell_type": "code",
   "execution_count": 34,
   "id": "07320584-e071-4040-9cb8-115968065d0a",
   "metadata": {},
   "outputs": [
    {
     "name": "stdout",
     "output_type": "stream",
     "text": [
      "91\n"
     ]
    }
   ],
   "source": [
    "cnt = 0\n",
    "for d1 in range(1,7):\n",
    "    for d2 in range(1,7):\n",
    "        for d3 in range(1,7):\n",
    "            if d1 == 1 or d2 == 1 or d3 == 1:\n",
    "                cnt += 1\n",
    "print(cnt)"
   ]
  },
  {
   "cell_type": "code",
   "execution_count": 32,
   "id": "8f6d0065-f767-47d0-a080-bb7bd8369da2",
   "metadata": {},
   "outputs": [
    {
     "name": "stdout",
     "output_type": "stream",
     "text": [
      "120\n"
     ]
    }
   ],
   "source": [
    "cnt = 0\n",
    "for d1 in range(1,7):\n",
    "    for d2 in range(1,7):\n",
    "        for d3 in range(1,7):\n",
    "            if d1 != d2 and d2 != d3 and d1 != d3:\n",
    "                cnt += 1\n",
    "print(cnt)"
   ]
  },
  {
   "cell_type": "code",
   "execution_count": 42,
   "id": "27e17524-c8b9-4596-84d2-bf662964a434",
   "metadata": {},
   "outputs": [
    {
     "name": "stdout",
     "output_type": "stream",
     "text": [
      "4\n"
     ]
    }
   ],
   "source": [
    "cnt = 0\n",
    "for d1 in range(1,7):\n",
    "    for d2 in range(1,7):\n",
    "        for d3 in range(1,7):\n",
    "            arr = [d1,d2,d3]\n",
    "            if arr[2]-arr[0] == 2 and arr[1] > arr[0] and arr[2] > arr[1]:\n",
    "                cnt+=1\n",
    "print(cnt)\n"
   ]
  },
  {
   "cell_type": "code",
   "execution_count": 36,
   "id": "4716aa5c-76ee-4791-b0ee-6486df2c5a13",
   "metadata": {},
   "outputs": [
    {
     "name": "stdout",
     "output_type": "stream",
     "text": [
      "24\n"
     ]
    }
   ],
   "source": [
    "cnt = 0\n",
    "for d1 in range(1,7):\n",
    "    for d2 in range(1,7):\n",
    "        for d3 in range(1,7):\n",
    "            arr = sorted([d1,d2,d3])\n",
    "            if arr[2]-arr[0] == 2 and arr[1] > arr[0] and arr[2] > arr[1]:\n",
    "                cnt+=1\n",
    "print(cnt)"
   ]
  },
  {
   "cell_type": "markdown",
   "id": "a6747783-b96f-4331-83b7-fadf85ebbb0c",
   "metadata": {},
   "source": []
  }
 ],
 "metadata": {
  "kernelspec": {
   "display_name": "Python 3",
   "language": "python",
   "name": "python3"
  },
  "language_info": {
   "codemirror_mode": {
    "name": "ipython",
    "version": 3
   },
   "file_extension": ".py",
   "mimetype": "text/x-python",
   "name": "python",
   "nbconvert_exporter": "python",
   "pygments_lexer": "ipython3",
   "version": "3.8.8"
  }
 },
 "nbformat": 4,
 "nbformat_minor": 5
}

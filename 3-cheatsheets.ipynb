{
 "cells": [
  {
   "cell_type": "markdown",
   "id": "b72d2367-4631-4cfc-9401-0dd0269e2dea",
   "metadata": {},
   "source": [
    "# Topic 3: Counting"
   ]
  },
  {
   "cell_type": "markdown",
   "id": "5b8030e7-0cfd-418c-8022-0cd5f7ef1e33",
   "metadata": {},
   "source": [
    "- ## [3.1 Counting](./3.1_Counting.pdf)\n",
    "- ## [3.2 Disjoint Unions](./3.2_Disjoint_Unions.pdf)\n",
    "- ## [3.3 General Unions](./3.3_General_Unions.pdf)\n",
    "- ## [3.4 Cartesian Products](./3.4_Cartesian_Products.pdf)\n",
    "- ## [3.5 Cartesian Powers](./3.5_Cartesian_Powers.pdf)\n",
    "- ## [3.6 Variations](./3.6_Variations.pdf)\n",
    "- ## [3.7 Trees](./3.7_Trees.pdf)"
   ]
  },
  {
   "cell_type": "markdown",
   "id": "81cb4ff1-ad34-4e3c-842b-a3a57636031f",
   "metadata": {},
   "source": [
    "## Cardinality of set union:\n",
    "## $$ \\begin{array} {rcl} \\displaystyle \\left| \\bigcup_{i=1}^{n} S_i \\right| & = & \\displaystyle \\sum_{i=1}^{n} |S_i| \\\\ \\, & & \\displaystyle  - \\sum_{1\\leq i < j \\leq n} |S_i \\cap S_j | \\\\ \\, & & + \\displaystyle \\sum_{1 \\leq i < j < k \\leq n} |S_i \\cap S_j \\cap S_k| \\\\ \\, & & \\cdots \\\\ \\, & & \\displaystyle  +(-1)^{n-2} \\sum_{1 \\leq i_1 < i_2 < \\cdots < i_{n-1}\\leq n} |S_{i_1} \\cap S_{i_2} \\cap \\cdots \\cap S_{i_{n-1}}| \\\\ \\, & & \\displaystyle + (-1)^{n-1}\\left| \\bigcap_{i=1}^{n} S_i \\right| \\end{array} $$"
   ]
  },
  {
   "cell_type": "markdown",
   "id": "1b585b16-66ee-4b84-aa14-a31ba4dca6bd",
   "metadata": {},
   "source": []
  }
 ],
 "metadata": {
  "kernelspec": {
   "display_name": "Python 3",
   "language": "python",
   "name": "python3"
  },
  "language_info": {
   "codemirror_mode": {
    "name": "ipython",
    "version": 3
   },
   "file_extension": ".py",
   "mimetype": "text/x-python",
   "name": "python",
   "nbconvert_exporter": "python",
   "pygments_lexer": "ipython3",
   "version": "3.8.8"
  }
 },
 "nbformat": 4,
 "nbformat_minor": 5
}

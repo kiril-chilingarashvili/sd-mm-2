{
 "cells": [
  {
   "cell_type": "markdown",
   "id": "b72d2367-4631-4cfc-9401-0dd0269e2dea",
   "metadata": {},
   "source": [
    "# Topic 5: Probability Introduction"
   ]
  },
  {
   "cell_type": "markdown",
   "id": "545995a3-3ae2-4096-b6c5-78fd8fc4c4e3",
   "metadata": {},
   "source": [
    "- ## [Probability - Introduction](./5.1_Probability_-_Introduction.pdf)\n",
    "- ## [Probability - Distribution Types](./5.2_Probability_-_Distribution_Types.pdf)\n",
    "- ## [Probability - Events](./5.3_Probability_-_Events__new_-compressed.pdf)\n",
    "- ## [Probability - Repeated Experiments - Part a](./5.4a_Probability_-_Repeated_Experiments-compressed.pdf)\n",
    "- ## [Probability - Repeated Experiments - Part b](./5.4b_Probability_-_Repeated_Experiments-compressed.pdf)\n",
    "- ## [Games of Chance - Roulette](./5.5_Games_of_Chance_-_Roulette-compressed.pdf)\n",
    "- ## [Probability - Axioms](./5.10_Probability_-_Axioms.pdf)\n",
    "- ## [Probability - Inequalities](./5.11_Probability_-_Inequalities-compressed.[df)"
   ]
  },
  {
   "cell_type": "markdown",
   "id": "5c6dab3a-7f76-47bb-bf3b-0a2596e8cc26",
   "metadata": {},
   "source": [
    "## Uniform Probability Spaces:\n",
    "## $$ \\begin{array} {rcl} \\displaystyle \\forall x\\in \\Omega \\quad P(x) & = & p \\\\ 1 & = & \\displaystyle \\sum_{x\\in \\Omega} P(x) = \\sum_{x\\in \\Omega} p = |\\Omega| \\cdot p \\\\ p & = & \\displaystyle \\frac{1}{|\\Omega|} \\end{array} $$\n",
    "\n",
    "## Probability of Event:\n",
    "## $$ P(E) = P(X \\in E) = \\sum_{x\\in E} P(x) \\quad \\text{for any space} $$\n",
    "## $$ P(E) = \\frac{|E|}{|\\Omega|} \\quad \\text{for uniform space} $$\n",
    "### here:\n",
    "- ### $E$ - event\n",
    "- ### $X$ - random variable\n",
    "- ### $x$ - outcome"
   ]
  },
  {
   "cell_type": "markdown",
   "id": "54659c39-97fa-4140-82e5-46e1b25d516c",
   "metadata": {},
   "source": [
    "## For two events $S$ and $T$:\n",
    "## $$ P(S-T) = P(S\\cup T) - P(T) $$"
   ]
  },
  {
   "cell_type": "markdown",
   "id": "801225bb-77cd-417a-a2c9-e864a6518f62",
   "metadata": {},
   "source": [
    "## Repeated experiments:\n",
    "- ### Sample space of repeated experiment ***with replacement***:\n",
    "## $$|\\Omega_{\\text{with replacement}}| = |\\Omega|^k $$\n",
    "- ### Sample space of repeated experiment ***without replacement***: \n",
    "## $$|\\Omega_{\\text{without replacement}}| = |\\Omega|^{\\underline{k}} = |\\Omega|\\cdot(|\\Omega|-1)\\cdot \\cdots \\cdot (|\\Omega|-k) $$"
   ]
  },
  {
   "cell_type": "markdown",
   "id": "1b7ca830-7f13-4587-a48e-aa2df00234c9",
   "metadata": {},
   "source": [
    "## Probability Axioms:\n",
    "- ### Non-negativity:\n",
    "## $$ \\forall A \\quad P(A) \\geq 0 $$\n",
    "- ### Unitarity:\n",
    "## $$ P(\\Omega) = 1 $$\n",
    "- ### Addition rule (countable unions):\n",
    "## $$ \\forall A_1, A_2, \\ldots \\text{disjoint} \\quad P(A_1 \\cup A_2 \\cup \\ldots) = P(A_1) + P(A_2) + \\ldots $$"
   ]
  },
  {
   "cell_type": "markdown",
   "id": "dd4ad1ad-891e-4cf0-b18b-83162d1beb52",
   "metadata": {},
   "source": [
    "## Probability - Derived Rules\n",
    "- ### Complement rule for counting:\n",
    "## $$ A \\cup A^C = \\Omega \\implies P(A^C) = 1 - P(A) $$\n",
    "- ### Subtraction rule - nested sets:\n",
    "## $$ A \\subseteq B \\implies P(B-A) = P(B) - P(A) $$\n",
    "- ### Subtraction rule - general sets:\n",
    "## $$ \\forall A,B \\quad P(B-A) = P(B) - P(A\\cap B) $$\n",
    "- ### Inclusion exclusion rule:\n",
    "## $$ \\forall A,B \\quad P(A\\cup B) = P(A) + P(B) - P(A \\cap B) $$\n",
    "- ### Inclusion exclusion rule for any number of sets:\n",
    "## $$ \\begin{array} {rcl} \\displaystyle P\\left( \\bigcup_{i=1}^{n} S_i \\right) & = & \\displaystyle \\sum_{i=1}^{n} P(S_i) \\\\ \\, & & \\displaystyle  - \\sum_{1\\leq i < j \\leq n} P(S_i \\cap S_j ) \\\\ \\, & & + \\displaystyle \\sum_{1 \\leq i < j < k \\leq n} P(S_i \\cap S_j \\cap S_k) \\\\ \\, & & \\cdots \\\\ \\, & & \\displaystyle  +(-1)^{n-2} \\sum_{1 \\leq i_1 < i_2 < \\cdots < i_{n-1}\\leq n} P(S_{i_1} \\cap S_{i_2} \\cap \\cdots \\cap S_{i_{n-1}}) \\\\ \\, & & \\displaystyle + (-1)^{n-1}P\\left( \\bigcap_{i=1}^{n} S_i \\right) \\end{array} $$"
   ]
  },
  {
   "cell_type": "markdown",
   "id": "17ca1a80-61e8-4abc-922e-471945236648",
   "metadata": {},
   "source": []
  }
 ],
 "metadata": {
  "kernelspec": {
   "display_name": "Python 3 (ipykernel)",
   "language": "python",
   "name": "python3"
  },
  "language_info": {
   "codemirror_mode": {
    "name": "ipython",
    "version": 3
   },
   "file_extension": ".py",
   "mimetype": "text/x-python",
   "name": "python",
   "nbconvert_exporter": "python",
   "pygments_lexer": "ipython3",
   "version": "3.10.6"
  }
 },
 "nbformat": 4,
 "nbformat_minor": 5
}

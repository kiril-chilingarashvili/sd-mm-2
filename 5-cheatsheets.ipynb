{
 "cells": [
  {
   "cell_type": "markdown",
   "id": "b72d2367-4631-4cfc-9401-0dd0269e2dea",
   "metadata": {},
   "source": [
    "# Topic 5: Probability Introduction"
   ]
  },
  {
   "cell_type": "markdown",
   "id": "545995a3-3ae2-4096-b6c5-78fd8fc4c4e3",
   "metadata": {},
   "source": [
    "- ## [Probability - Introduction](./5.1_Probability_-_Introduction.pdf)\n",
    "- ## [Probability - Distribution Types](./5.2_Probability_-_Distribution_Types.pdf)\n",
    "- ## [Probability - Events](./5.3_Probability_-_Events__new_-compressed.pdf)\n",
    "- ## [Probability - Repeated Experiments - Part a](./5.4a_Probability_-_Repeated_Experiments-compressed.pdf)\n",
    "- ## [Probability - Repeated Experiments - Part b](./5.4b_Probability_-_Repeated_Experiments-compressed.pdf)\n",
    "- ## [Games of Chance - Roulette](./5.5_Games_of_Chance_-_Roulette-compressed.pdf)"
   ]
  },
  {
   "cell_type": "markdown",
   "id": "5c6dab3a-7f76-47bb-bf3b-0a2596e8cc26",
   "metadata": {},
   "source": [
    "## Uniform Probability Spaces:\n",
    "## $$ \\begin{array} {rcl} \\displaystyle \\forall x\\in \\Omega \\quad P(x) & = & p \\\\ 1 & = & \\displaystyle \\sum_{x\\in \\Omega} P(x) = \\sum_{x\\in \\Omega} p = |\\Omega| \\cdot p \\\\ p & = & \\displaystyle \\frac{1}{|\\Omega|} \\end{array} $$\n",
    "\n",
    "## Probability of Event:\n",
    "## $$ P(E) = P(X \\in E) = \\sum_{x\\in E} P(x) \\quad \\text{for any space} $$\n",
    "## $$ P(E) = \\frac{|E|}{|\\Omega|} \\quad \\text{for uniform space} $$\n",
    "### here:\n",
    "- ### $E$ - event\n",
    "- ### $X$ - random variable\n",
    "- ### $x$ - outcome"
   ]
  },
  {
   "cell_type": "markdown",
   "id": "54659c39-97fa-4140-82e5-46e1b25d516c",
   "metadata": {},
   "source": [
    "## For two events $S$ and $T$:\n",
    "## $$ P(S-T) = P(S\\cup T) - P(T) $$"
   ]
  },
  {
   "cell_type": "markdown",
   "id": "801225bb-77cd-417a-a2c9-e864a6518f62",
   "metadata": {},
   "source": [
    "## Repeated experiments:\n",
    "- ### Sample space of repeated experiment ***with replacement***:\n",
    "## $$|\\Omega_{\\text{with replacement}}| = |\\Omega|^k $$\n",
    "- ### Sample space of repeated experiment ***without replacement***: \n",
    "## $$|\\Omega_{\\text{without replacement}}| = |\\Omega|^{\\underline{k}} = |\\Omega|\\cdot(|\\Omega|-1)\\cdot \\cdots \\cdot (|\\Omega|-k) $$"
   ]
  },
  {
   "cell_type": "markdown",
   "id": "1b7ca830-7f13-4587-a48e-aa2df00234c9",
   "metadata": {},
   "source": []
  }
 ],
 "metadata": {
  "kernelspec": {
   "display_name": "Python 3",
   "language": "python",
   "name": "python3"
  },
  "language_info": {
   "codemirror_mode": {
    "name": "ipython",
    "version": 3
   },
   "file_extension": ".py",
   "mimetype": "text/x-python",
   "name": "python",
   "nbconvert_exporter": "python",
   "pygments_lexer": "ipython3",
   "version": "3.8.8"
  }
 },
 "nbformat": 4,
 "nbformat_minor": 5
}

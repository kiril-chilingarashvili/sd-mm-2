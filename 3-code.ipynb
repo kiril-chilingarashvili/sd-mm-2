{
 "cells": [
  {
   "cell_type": "code",
   "execution_count": 10,
   "id": "35436715-4bec-49c5-be1e-d16c52b6a24d",
   "metadata": {},
   "outputs": [],
   "source": [
    "from itertools import product\n",
    "import numpy as np"
   ]
  },
  {
   "cell_type": "code",
   "execution_count": 13,
   "id": "9d04a46d-0c53-48f0-bd65-dc27d8309672",
   "metadata": {},
   "outputs": [
    {
     "name": "stdout",
     "output_type": "stream",
     "text": [
      "256\n"
     ]
    }
   ],
   "source": [
    "S = set({0,1})\n",
    "\n",
    "subsets = list(product(S, repeat=9))\n",
    "count = 0\n",
    "for item in subsets:\n",
    "    cc = 0\n",
    "    for i in item:\n",
    "        if i == 1:\n",
    "            cc += 1\n",
    "    if cc >=5:\n",
    "        count+=1\n",
    "print(count)\n"
   ]
  },
  {
   "cell_type": "code",
   "execution_count": null,
   "id": "32e48096-882a-49dd-80c9-dc3a8a2e3f12",
   "metadata": {},
   "outputs": [],
   "source": []
  }
 ],
 "metadata": {
  "kernelspec": {
   "display_name": "Python 3",
   "language": "python",
   "name": "python3"
  },
  "language_info": {
   "codemirror_mode": {
    "name": "ipython",
    "version": 3
   },
   "file_extension": ".py",
   "mimetype": "text/x-python",
   "name": "python",
   "nbconvert_exporter": "python",
   "pygments_lexer": "ipython3",
   "version": "3.8.8"
  }
 },
 "nbformat": 4,
 "nbformat_minor": 5
}

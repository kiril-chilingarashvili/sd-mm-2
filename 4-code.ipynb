{
 "cells": [
  {
   "cell_type": "code",
   "execution_count": 5,
   "id": "5b9193f8-2321-4dc7-9c7e-5c0fad3bdac8",
   "metadata": {},
   "outputs": [
    {
     "name": "stdout",
     "output_type": "stream",
     "text": [
      "0-0-10\n",
      "0-2-8\n",
      "0-4-6\n",
      "0-6-4\n",
      "0-8-2\n",
      "0-10-0\n",
      "1-0-9\n",
      "1-2-7\n",
      "1-4-5\n",
      "1-6-3\n",
      "1-8-1\n",
      "2-0-8\n",
      "2-2-6\n",
      "2-4-4\n",
      "2-6-2\n",
      "2-8-0\n",
      "3-0-7\n",
      "3-2-5\n",
      "3-4-3\n",
      "3-6-1\n",
      "4-0-6\n",
      "4-2-4\n",
      "4-4-2\n",
      "4-6-0\n",
      "5-0-5\n",
      "5-2-3\n",
      "5-4-1\n",
      "6-0-4\n",
      "6-2-2\n",
      "6-4-0\n",
      "7-0-3\n",
      "7-2-1\n",
      "8-0-2\n",
      "8-2-0\n",
      "9-0-1\n",
      "10-0-0\n",
      "36\n"
     ]
    }
   ],
   "source": [
    "sum = 0\n",
    "for k1 in range(11):\n",
    "    for k2 in range(11):\n",
    "        for k3 in range(11):\n",
    "            if (k1+k2+k3) == 10:\n",
    "                if k2 % 2 == 0:\n",
    "                    sum += 1\n",
    "                    print('%i-%i-%i'%(k1,k2,k3))\n",
    "print(sum)\n",
    "# @ of sums = (n+k-1 choose k-1) = (10+3-1 choose 3-1)"
   ]
  },
  {
   "cell_type": "markdown",
   "id": "76a69a12-b793-4aff-ba5e-ef7f65655a90",
   "metadata": {},
   "source": []
  }
 ],
 "metadata": {
  "kernelspec": {
   "display_name": "Python 3",
   "language": "python",
   "name": "python3"
  },
  "language_info": {
   "codemirror_mode": {
    "name": "ipython",
    "version": 3
   },
   "file_extension": ".py",
   "mimetype": "text/x-python",
   "name": "python",
   "nbconvert_exporter": "python",
   "pygments_lexer": "ipython3",
   "version": "3.8.8"
  }
 },
 "nbformat": 4,
 "nbformat_minor": 5
}

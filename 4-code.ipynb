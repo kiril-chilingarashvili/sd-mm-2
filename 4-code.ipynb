{
 "cells": [
  {
   "cell_type": "markdown",
   "id": "ea6effc6-fcc7-4a3e-a48f-5df57cffc666",
   "metadata": {},
   "source": [
    "### ${ 12 \\choose 2} = \\frac{12!}{10!2!} = \\frac{12*11}{2} = \\frac{6*11}{1} = 66$"
   ]
  },
  {
   "cell_type": "code",
   "execution_count": 9,
   "id": "5b9193f8-2321-4dc7-9c7e-5c0fad3bdac8",
   "metadata": {},
   "outputs": [
    {
     "name": "stdout",
     "output_type": "stream",
     "text": [
      "66\n"
     ]
    }
   ],
   "source": [
    "sum = 0\n",
    "for k1 in range(11):\n",
    "    for k2 in range(11):\n",
    "        for k3 in range(11):\n",
    "            if (k1+k2+k3) == 10:\n",
    "                # if k2 % 2 == 0:\n",
    "                    sum += 1\n",
    "                    # print('%i-%i-%i'%(k1,k2,k3))\n",
    "print(sum)\n",
    "# @ of sums = (n+k-1 choose k-1) = (10+3-1 choose 3-1)"
   ]
  },
  {
   "cell_type": "markdown",
   "id": "76a69a12-b793-4aff-ba5e-ef7f65655a90",
   "metadata": {},
   "source": [
    "### $$ \\text{Num}_{\\text{stricttly accending}} = {10 \\choose 6} = 210 $$\n",
    "### $$ \\text{Num}_{\\text{accending}} = {6 + 10 - 1 \\choose 6} = 5005 $$"
   ]
  },
  {
   "cell_type": "code",
   "execution_count": 12,
   "id": "3e0c01e2-32f7-4d0a-bc47-cdfaffb55ead",
   "metadata": {},
   "outputs": [
    {
     "name": "stdout",
     "output_type": "stream",
     "text": [
      "Strictly accending 210\n",
      "Accending 5005\n"
     ]
    }
   ],
   "source": [
    "sum = 0\n",
    "for k1 in range(10):\n",
    "    for k2 in range(k1+1, 10):\n",
    "        for k3 in range(k2+1, 10):\n",
    "            for k4 in range(k3+1, 10):\n",
    "                for k5 in range(k4+1, 10):\n",
    "                    for k6 in range(k5+1, 10):\n",
    "                        sum += 1\n",
    "                        # print('%i-%i-%i-%i-%i-%i'%(k1,k2,k3,k4,k5,k6))\n",
    "print('Strictly accending', sum)\n",
    "sum = 0\n",
    "for k1 in range(10):\n",
    "    for k2 in range(k1, 10):\n",
    "        for k3 in range(k2, 10):\n",
    "            for k4 in range(k3, 10):\n",
    "                for k5 in range(k4, 10):\n",
    "                    for k6 in range(k5, 10):\n",
    "                        sum += 1\n",
    "                        # print('%i-%i-%i-%i-%i-%i'%(k1,k2,k3,k4,k5,k6))\n",
    "print('Accending', sum)"
   ]
  },
  {
   "cell_type": "markdown",
   "id": "3cc8969a-542f-46a7-b29e-16c5b954705f",
   "metadata": {},
   "source": []
  }
 ],
 "metadata": {
  "kernelspec": {
   "display_name": "Python 3",
   "language": "python",
   "name": "python3"
  },
  "language_info": {
   "codemirror_mode": {
    "name": "ipython",
    "version": 3
   },
   "file_extension": ".py",
   "mimetype": "text/x-python",
   "name": "python",
   "nbconvert_exporter": "python",
   "pygments_lexer": "ipython3",
   "version": "3.8.8"
  }
 },
 "nbformat": 4,
 "nbformat_minor": 5
}

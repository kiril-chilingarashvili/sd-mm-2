{
 "cells": [
  {
   "cell_type": "markdown",
   "id": "b72d2367-4631-4cfc-9401-0dd0269e2dea",
   "metadata": {},
   "source": [
    "# Topic 4: Combinatorics"
   ]
  },
  {
   "cell_type": "markdown",
   "id": "545995a3-3ae2-4096-b6c5-78fd8fc4c4e3",
   "metadata": {},
   "source": [
    "- ## [Permutations](./4.1_Combinaorics_-_Permutations.pdf)\n",
    "- ## [Partial Permutations](./4.2_Partial_Permutations.pdf)\n",
    "- ## [Combinations](./4.3_Combinatorics_-_Combinations_-v2.pdf)\n",
    "- ## [Combinations - Applications](./4.4_Applications_of_Binomial_Coefficients.pdf)\n",
    "- ## [Properties of Binomial Coefficient](./4.5_Properties_of_Binomial_Coefficient.pdf)\n",
    "- ## [Binomial Theorem](./4.6_Binomial_Theorem.pdf)\n",
    "- ## [Multinomials](./4.7_multinomials.pdf)\n",
    "- ## [Stars and Bars](./4.8_Stars_and_Bars.pdf)"
   ]
  },
  {
   "cell_type": "markdown",
   "id": "1b585b16-66ee-4b84-aa14-a31ba4dca6bd",
   "metadata": {},
   "source": [
    "## Number of permutations of an $n$-set is $n!$\n",
    "\n",
    "## Stirling's approximation\n",
    "## $$ n! \\sim \\sqrt{2\\pi n} \\left( \\frac{n}{e} \\right)^n $$"
   ]
  },
  {
   "cell_type": "markdown",
   "id": "5c932841-19d9-4d65-b046-9f4264b1026a",
   "metadata": {},
   "source": [
    "## $k$-permutations of $[n]$ (Length-$k$ sequences over $[n]$):\n",
    "### - with repetion: \n",
    "## $$n^k$$\n",
    "### - without repetition: \n",
    "## $$n^{\\underline{k}} = \\frac{n!}{(n-k)!} \\quad( k-\\text{falling power of}\\, n, \\, \\text{order does matter})$$"
   ]
  },
  {
   "cell_type": "markdown",
   "id": "573427fa-c9be-4be4-affb-c3796679b0da",
   "metadata": {},
   "source": [
    "## The number of ***derangements*** of a set of size $n$ is known as the subfactorial of $n$ or the $n$-th derangement number or $n$-th de Montmort number. Notation: $!n$.\n",
    "\n",
    "## For $n>0$, the subfactorial $!n$ equals the nearest integer to $\\displaystyle \\frac{n!}{e}$, where $n!$ denotes the factorial of $n$ and $e$ is Euler's number."
   ]
  },
  {
   "cell_type": "markdown",
   "id": "291aeec5-ecd6-47e5-acfc-94954e563910",
   "metadata": {},
   "source": [
    "## Calculating binomial coefficients ($k$-subsets, order does not matter)\n",
    "## $$ {n \\choose k} := \\left| { [n] \\choose k } \\right| = \\frac{n^{\\underline{k}}}{k!} = \\frac{n!}{k!(n-k)!} = {n \\choose {n-k}} := \\left| { [n] \\choose {n-k} } \\right| $$"
   ]
  },
  {
   "cell_type": "markdown",
   "id": "9d002b26-57a3-4107-a381-6bdb9049cba8",
   "metadata": {},
   "source": [
    "## Pascal's Rule (Pascal's Identity):\n",
    "## $$ { {n-1} \\choose k} + { {n-1} \\choose {k-1} } = {n \\choose k } $$\n",
    "### or\n",
    "## $$ { {n} \\choose k} + { {n} \\choose {k-1} } = { {n+1} \\choose k } $$"
   ]
  },
  {
   "cell_type": "markdown",
   "id": "d31315db-b76d-4ca2-b03e-e1fdfefff413",
   "metadata": {},
   "source": [
    "## Sum of arithmetic progression numbers as number of $k$-subsets:\n",
    "## $$ 1 + 2 + \\cdots + (n - 1) + n = \\frac{n(n+1)}{2} = {n \\choose 2} $$\n",
    "\n",
    "### ***Example***\n",
    "### How many nonempty intervals does set $\\{1,2,\\ldots,n\\}$ contain?\n",
    "### ***Solution***\n",
    "## $$ n = {n+1 \\choose 2} $$"
   ]
  },
  {
   "cell_type": "markdown",
   "id": "9a194569-b73c-47ab-aa0e-23e843f52b10",
   "metadata": {},
   "source": [
    "## Functions.\n",
    "### - A function $f: X \\to Y$ is ***injective*** or ***one-to-one*** if different elements in $X$ map to different elements in $Y$, namely,\n",
    "## $$ \\forall x \\neq x' \\in X,\\,\\, f(x) \\neq f(x') $$\n",
    "### A function $f: X \\to Y$ is ***surjective*** or ***onto*** if all elements in $Y$ are images of at least one element of $X$, namely,\n",
    "## $$ \\forall y \\in Y\\,\\, \\exists x \\in X, \\,\\, f(x) = y $$\n",
    "\n",
    "### - Number of possible functions from set $A$ to set $B$\n",
    "## $$ |F| = n^m \\quad |A| = m, |B| = n $$\n",
    "### - Number of injective functions from set $A$ to set $B$\n",
    "## $$ |F| = \\frac{n!}{(n-m)!} \\quad |A| = m, |B| = n $$\n",
    "### - Number of surjective functions from set $A$ to set $B$\n",
    "## $$ \\begin{array} {rcl}   |F| & = & \\displaystyle \\sum_{i=1}^{n} (-1)^{n-i} {n \\choose i} i^m \\\\ & = & \\displaystyle n^m - {n \\choose 1} (n-1)^m + {n \\choose 2} (n-2)^m - {n \\choose 3} (n-3)^m  + \\cdots - {n \\choose n-1} (1)^m \\\\ & & \\displaystyle (|A| = m, |B| = n, m>n) \\end{array}$$"
   ]
  },
  {
   "cell_type": "markdown",
   "id": "91bf9cf9-30ce-4a42-bf78-63a38c388231",
   "metadata": {},
   "source": [
    "## Properties of binomial coefficients\n",
    "### Symmetry:\n",
    "## $$ {n \\choose k} = {n \\choose n-k} $$\n",
    "### Binomial Identity:\n",
    "## $$ \\sum_{i=0}^{n} {n \\choose i} = 2^n $$\n",
    "### Hokey Stick Identity:\n",
    "## $$ \\sum_{i=0}^{n} { i + k -1 \\choose k-1} = {n+k \\choose k} $$\n",
    "### Recusrsive Identity:\n",
    "## $$ {n \\choose k} = \\frac{n}{k} {n-1 \\choose k-1},\\quad \\text{or} \\quad {n \\choose k}k = n {n-1 \\choose k-1} $$\n",
    "## Pascal's Identity:\n",
    "## $$ {n+1 \\choose k} = {n \\choose k} + {n \\choose k-1} $$"
   ]
  },
  {
   "cell_type": "markdown",
   "id": "1612ad7d-41d5-4578-97c7-80da556642b7",
   "metadata": {},
   "source": [
    "## Binomial Theorem:\n",
    "\n",
    "## $$ (a+b)^n = \\sum_{i=0}^{n} {n \\choose i} a^{n-1}b^i \\quad \\forall a,b \\quad \\forall n \\geq 0 $$"
   ]
  },
  {
   "cell_type": "markdown",
   "id": "743b1a27-a2a5-4e56-a0c0-700d52170ff4",
   "metadata": {},
   "source": [
    "## Binomial terms of exponential:\n",
    "## $$ \\begin{array} {rcl} e^x & = & \\displaystyle \\lim_{n\\to\\infty} \\left(1+\\frac{x}{n}\\right)^n \\\\\n",
    " & = & \\displaystyle \\lim_{n\\to\\infty} \\sum_{i=0}^n {n \\choose i} \\left( \\frac{x}{n} \\right)^i \\\\ & = & \\displaystyle \\lim_{n\\to\\infty} \\sum_{i=0}^n \\frac{n^{\\underline{i}}}{i!} \\left( \\frac{x}{n} \\right)^i \\\\ & = & \\displaystyle \\lim_{n\\to\\infty} \\sum_{i=0}^n \\frac{x^i}{i!} \\cdot \\frac{n^{\\underline{i}}}{n^i} \\\\ & = & \\displaystyle \\sum_{i=0}^{\\infty} \\frac{x^i}{i!} \\end{array} $$"
   ]
  },
  {
   "cell_type": "markdown",
   "id": "4e292d12-e57f-4de0-a024-1a5bde9c5d61",
   "metadata": {},
   "source": [
    "## Binomial Theorem applied to Binomial Distribution sum:\n",
    "## $$ \\sum_{i=0}^n {n \\choose i} p^{n-i} (1-p)^i = (p + (1-p))^n = 1^n = 1 $$"
   ]
  },
  {
   "cell_type": "markdown",
   "id": "183dc61e-a578-4e7c-91b5-fe77156bc45f",
   "metadata": {},
   "source": [
    "## Multinomial Coefficients:\n",
    "## $$ {n \\choose k_1, k_2, k_3} := \\frac{n!}{k_1! k_2 ! k_3!} $$"
   ]
  },
  {
   "cell_type": "markdown",
   "id": "da8ffcab-57f8-4f0a-9a83-e8fd8b15cc67",
   "metadata": {},
   "source": [
    "## Multinomial Theorem:\n",
    "## $$ (a_a+a_2+\\cdots+a_m)^n = \\sum_{\\begin{array} {c} k_1+k_2+\\cdots+k_m=n \\\\ k_1,k_2,\\ldots,k_m \\geq 0 \\end{array}} {n \\choose k_1,k_2,\\ldots,k_m} \\prod_{t=1}^{m} a_t^{k_t} $$"
   ]
  },
  {
   "cell_type": "markdown",
   "id": "eb981cdf-7aff-463b-9e4e-d686a30f6be5",
   "metadata": {},
   "source": [
    "## Number of ways to write $n$ as a sum of $k$ ***positive*** integers (when order matters):\n",
    "## $$ \\text{Number of sums} = {n-1 \\choose k-1} $$"
   ]
  },
  {
   "cell_type": "markdown",
   "id": "b155bc57-f239-4a86-88f8-9774f61359d2",
   "metadata": {},
   "source": [
    "## Number of ways to write $n$ as a sum of ***any number of*** ***positive*** integers (when order matters):\n",
    "## $$ \\text{Number of sums} = \\sum_{k=1}^n {n-1 \\choose k-1} = \\sum_{i=0}^{n-1}{n-1 \\choose i} = 2^{n-1} $$"
   ]
  },
  {
   "cell_type": "markdown",
   "id": "274ed6b3-d172-4a8d-8be2-779bb100efdf",
   "metadata": {},
   "source": [
    "## Number of ways to write $n$ as a sum of $k$ ***non-negative*** integers (when order matters):\n",
    "## $$ \\text{Number of sums} = {n+k-1 \\choose k-1} $$"
   ]
  },
  {
   "cell_type": "markdown",
   "id": "b61d9249-71e6-4cc2-a0b9-31872da47086",
   "metadata": {},
   "source": [
    "## Number of ways to write a sum of $k$ ***non-negative*** integers resulting in number $\\leq n$:\n",
    "## $$ \\text{Number of sums} = {n+k \\choose k} $$"
   ]
  },
  {
   "cell_type": "markdown",
   "id": "2abd56cb-906d-4fdd-9d1d-4972233f58f8",
   "metadata": {},
   "source": []
  }
 ],
 "metadata": {
  "kernelspec": {
   "display_name": "Python 3",
   "language": "python",
   "name": "python3"
  },
  "language_info": {
   "codemirror_mode": {
    "name": "ipython",
    "version": 3
   },
   "file_extension": ".py",
   "mimetype": "text/x-python",
   "name": "python",
   "nbconvert_exporter": "python",
   "pygments_lexer": "ipython3",
   "version": "3.8.8"
  }
 },
 "nbformat": 4,
 "nbformat_minor": 5
}

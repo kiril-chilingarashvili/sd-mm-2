{
 "cells": [
  {
   "cell_type": "code",
   "execution_count": 79,
   "id": "5e505590-736f-4a0c-83ea-0760fafabaef",
   "metadata": {},
   "outputs": [],
   "source": [
    "A = set({1,3})\n",
    "B = set({1,2,3})"
   ]
  },
  {
   "cell_type": "code",
   "execution_count": 82,
   "id": "e95a2d01-021b-40f0-9ecc-f1c2c5d751e3",
   "metadata": {},
   "outputs": [],
   "source": [
    "C = set({1,2,3})"
   ]
  },
  {
   "cell_type": "code",
   "execution_count": 83,
   "id": "95ed15f5-30d6-45a8-869e-db70578e5f9f",
   "metadata": {},
   "outputs": [
    {
     "data": {
      "text/plain": [
       "(True, set(), set())"
      ]
     },
     "execution_count": 83,
     "metadata": {},
     "output_type": "execute_result"
    }
   ],
   "source": [
    "def op(a, b):\n",
    "    return a - b\n",
    "op(A, C) == op(B, C), op(A, C) - op(B, C), op(B, C) - op(A, C)"
   ]
  },
  {
   "cell_type": "markdown",
   "id": "f2922dfa-4f47-4dde-8af3-5e31bb04f2eb",
   "metadata": {},
   "source": []
  },
  {
   "cell_type": "markdown",
   "id": "673e0ae4-59d5-41db-9c42-8c8aa0704756",
   "metadata": {},
   "source": []
  }
 ],
 "metadata": {
  "kernelspec": {
   "display_name": "Python 3",
   "language": "python",
   "name": "python3"
  },
  "language_info": {
   "codemirror_mode": {
    "name": "ipython",
    "version": 3
   },
   "file_extension": ".py",
   "mimetype": "text/x-python",
   "name": "python",
   "nbconvert_exporter": "python",
   "pygments_lexer": "ipython3",
   "version": "3.8.8"
  }
 },
 "nbformat": 4,
 "nbformat_minor": 5
}

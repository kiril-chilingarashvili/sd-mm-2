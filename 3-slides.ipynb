{
 "cells": [
  {
   "cell_type": "markdown",
   "id": "b72d2367-4631-4cfc-9401-0dd0269e2dea",
   "metadata": {},
   "source": [
    "# Topic 3: Counting"
   ]
  },
  {
   "cell_type": "code",
   "execution_count": 1,
   "id": "d608e1b7-dcbc-49e9-a786-dfe21b997c15",
   "metadata": {},
   "outputs": [
    {
     "data": {
      "text/html": [
       "<iframe width=\"900\" height=\"650\" src=\"./3.1_Counting.pdf\" frameborder=\"0\" allow=\"accelerometer; autoplay; clipboard-write; encrypted-media; gyroscope; picture-in-picture\" allowfullscreen></iframe>\n"
      ],
      "text/plain": [
       "<IPython.core.display.HTML object>"
      ]
     },
     "metadata": {},
     "output_type": "display_data"
    }
   ],
   "source": [
    "%%html\n",
    "<iframe width=\"900\" height=\"650\" src=\"./3.1_Counting.pdf\" frameborder=\"0\" allow=\"accelerometer; autoplay; clipboard-write; encrypted-media; gyroscope; picture-in-picture\" allowfullscreen></iframe>"
   ]
  },
  {
   "cell_type": "code",
   "execution_count": 2,
   "id": "5d4e947c-cfa8-413b-907f-0560d2115370",
   "metadata": {},
   "outputs": [
    {
     "data": {
      "text/html": [
       "<iframe width=\"900\" height=\"650\" src=\"./3.2_Disjoint_Unions.pdf\" frameborder=\"0\" allow=\"accelerometer; autoplay; clipboard-write; encrypted-media; gyroscope; picture-in-picture\" allowfullscreen></iframe>\n"
      ],
      "text/plain": [
       "<IPython.core.display.HTML object>"
      ]
     },
     "metadata": {},
     "output_type": "display_data"
    }
   ],
   "source": [
    "%%html\n",
    "<iframe width=\"900\" height=\"650\" src=\"./3.2_Disjoint_Unions.pdf\" frameborder=\"0\" allow=\"accelerometer; autoplay; clipboard-write; encrypted-media; gyroscope; picture-in-picture\" allowfullscreen></iframe>"
   ]
  },
  {
   "cell_type": "code",
   "execution_count": 3,
   "id": "98f9e7e1-1f40-4e12-884b-c433ebd08ee3",
   "metadata": {},
   "outputs": [
    {
     "data": {
      "text/html": [
       "<iframe width=\"900\" height=\"650\" src=\"./3.3_General_Unions.pdf\" frameborder=\"0\" allow=\"accelerometer; autoplay; clipboard-write; encrypted-media; gyroscope; picture-in-picture\" allowfullscreen></iframe>\n"
      ],
      "text/plain": [
       "<IPython.core.display.HTML object>"
      ]
     },
     "metadata": {},
     "output_type": "display_data"
    }
   ],
   "source": [
    "%%html\n",
    "<iframe width=\"900\" height=\"650\" src=\"./3.3_General_Unions.pdf\" frameborder=\"0\" allow=\"accelerometer; autoplay; clipboard-write; encrypted-media; gyroscope; picture-in-picture\" allowfullscreen></iframe>"
   ]
  },
  {
   "cell_type": "markdown",
   "id": "81cb4ff1-ad34-4e3c-842b-a3a57636031f",
   "metadata": {},
   "source": [
    "## Cardinality of set union:\n",
    "## $$ \\begin{array} {rcl} \\displaystyle \\left| \\bigcup_{i=1}^{n} S_i \\right| & = & \\displaystyle \\sum_{i=1}^{n} |S_i| \\\\ \\, & & \\displaystyle  - \\sum_{1\\leq i < j \\leq n} |S_i \\cap S_j | \\\\ \\, & & + \\displaystyle \\sum_{1 \\leq i < j < k \\leq n} |S_i \\cap S_j \\cap S_k| \\\\ \\, & & \\cdots \\\\ \\, & & \\displaystyle  +(-1)^{n-2} \\sum_{1 \\leq i_1 < i_2 < \\cdots < i_{n-1}\\leq n} |S_{i_1} \\cap S_{i_2} \\cap \\cdots \\cap S_{i_{n-1}}| \\\\ \\, & & \\displaystyle + (-1)^{n-1}\\left| \\bigcap_{i=1}^{n} S_i \\right| \\end{array} $$"
   ]
  },
  {
   "cell_type": "code",
   "execution_count": 7,
   "id": "35419f27-ae83-413f-9a24-e0fc5450af00",
   "metadata": {},
   "outputs": [
    {
     "data": {
      "text/html": [
       "<iframe width=\"900\" height=\"650\" src=\"./3.4_Cartesian_Products.pdf\" frameborder=\"0\" allow=\"accelerometer; autoplay; clipboard-write; encrypted-media; gyroscope; picture-in-picture\" allowfullscreen></iframe>\n"
      ],
      "text/plain": [
       "<IPython.core.display.HTML object>"
      ]
     },
     "metadata": {},
     "output_type": "display_data"
    }
   ],
   "source": [
    "%%html\n",
    "<iframe width=\"900\" height=\"650\" src=\"./3.4_Cartesian_Products.pdf\" frameborder=\"0\" allow=\"accelerometer; autoplay; clipboard-write; encrypted-media; gyroscope; picture-in-picture\" allowfullscreen></iframe>"
   ]
  },
  {
   "cell_type": "markdown",
   "id": "1ef66f2b-fd54-4700-80a9-fd973a77ddec",
   "metadata": {},
   "source": []
  }
 ],
 "metadata": {
  "kernelspec": {
   "display_name": "Python 3",
   "language": "python",
   "name": "python3"
  },
  "language_info": {
   "codemirror_mode": {
    "name": "ipython",
    "version": 3
   },
   "file_extension": ".py",
   "mimetype": "text/x-python",
   "name": "python",
   "nbconvert_exporter": "python",
   "pygments_lexer": "ipython3",
   "version": "3.8.8"
  }
 },
 "nbformat": 4,
 "nbformat_minor": 5
}

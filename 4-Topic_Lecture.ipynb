{
 "cells": [
  {
   "cell_type": "markdown",
   "metadata": {},
   "source": [
    "# 4 Permutations and Combinations"
   ]
  },
  {
   "cell_type": "markdown",
   "metadata": {},
   "source": [
    "## 4.1 Permutations\n",
    "\n",
    "We find the number of $k$-permutations of $A$, first by determining the set of permutations and then by calculating $\\frac{|A|!}{(|A|-k)!}$. We will generate the possible permutation sets in two ways, by using the built-in functions in python and also the  **itertools** library that contains several combinatorial functions generating Cartesian products, permutations, and combinations. Please note that in the homework for this topic we ask you to recreate similar functions without using itertools.\n",
    "We first consider the special case of $k=|A|$, which is equivalent to finding the number of ways of ordering the elements of $A$. "
   ]
  },
  {
   "cell_type": "code",
   "execution_count": 1,
   "metadata": {
    "tags": []
   },
   "outputs": [],
   "source": [
    "import itertools"
   ]
  },
  {
   "cell_type": "markdown",
   "metadata": {},
   "source": [
    "The following function generates the list of permutations for a given set. "
   ]
  },
  {
   "cell_type": "code",
   "execution_count": 2,
   "metadata": {},
   "outputs": [],
   "source": [
    "def permute(A):\n",
    "    if len(A)==1:\n",
    "        return [tuple(A)]\n",
    "    permutations = []\n",
    "    for x in A:\n",
    "        for y in permute(A-{x}):\n",
    "            permutations.append((x,)+y)\n",
    "    return permutations"
   ]
  },
  {
   "cell_type": "code",
   "execution_count": 3,
   "metadata": {
    "tags": []
   },
   "outputs": [],
   "source": [
    "A = {1, 2, 3}"
   ]
  },
  {
   "cell_type": "code",
   "execution_count": 4,
   "metadata": {},
   "outputs": [
    {
     "name": "stdout",
     "output_type": "stream",
     "text": [
      "Permutations of {1, 2, 3}: {(1, 3, 2), (1, 2, 3), (2, 1, 3), (3, 2, 1), (3, 1, 2), (2, 3, 1)}\n",
      "Number of permutations:  6\n"
     ]
    }
   ],
   "source": [
    "# Using custom function\n",
    "permute_all = set(permute(A))\n",
    "print(\"Permutations of {}: {}\".format(A,permute_all))\n",
    "print(\"Number of permutations: \", len(permute_all))"
   ]
  },
  {
   "cell_type": "markdown",
   "metadata": {},
   "source": [
    "We repeat the same operation but now using `itertools.permutations` function."
   ]
  },
  {
   "cell_type": "code",
   "execution_count": 5,
   "metadata": {},
   "outputs": [
    {
     "name": "stdout",
     "output_type": "stream",
     "text": [
      "Permutations of {1, 2, 3}: {(1, 3, 2), (1, 2, 3), (2, 1, 3), (3, 2, 1), (3, 1, 2), (2, 3, 1)}\n",
      "Number of permutations:  6\n"
     ]
    }
   ],
   "source": [
    "# Find all permutations of A and |A!|\n",
    "permute_all = set(itertools.permutations(A))\n",
    "print(\"Permutations of {}: {}\".format(A,permute_all))\n",
    "print(\"Number of permutations: \", len(permute_all))"
   ]
  },
  {
   "cell_type": "markdown",
   "metadata": {},
   "source": [
    "## 4.2 Factorials\n",
    "\n",
    "Of course, n! can also be computed directly. Here we do it in three ways.\n",
    "\n",
    "Using the factorial function in math."
   ]
  },
  {
   "cell_type": "code",
   "execution_count": 6,
   "metadata": {},
   "outputs": [
    {
     "name": "stdout",
     "output_type": "stream",
     "text": [
      "6\n"
     ]
    }
   ],
   "source": [
    "# Print |A|! directly\n",
    "from math import factorial\n",
    "print(int(factorial(len(A))))"
   ]
  },
  {
   "cell_type": "markdown",
   "metadata": {},
   "source": [
    "Or we can calculate ourslves. First iteratively."
   ]
  },
  {
   "cell_type": "code",
   "execution_count": 7,
   "metadata": {},
   "outputs": [
    {
     "name": "stdout",
     "output_type": "stream",
     "text": [
      "720\n"
     ]
    }
   ],
   "source": [
    "# Find |A|! directly\n",
    "def factorial_iterative(n):\n",
    "    fact = 1\n",
    "    for i in range(1,n+1):\n",
    "        fact *= i\n",
    "\n",
    "    return fact\n",
    "\n",
    "print(factorial_iterative(6))"
   ]
  },
  {
   "cell_type": "markdown",
   "metadata": {},
   "source": [
    "Or recursively."
   ]
  },
  {
   "cell_type": "code",
   "execution_count": 8,
   "metadata": {},
   "outputs": [
    {
     "name": "stdout",
     "output_type": "stream",
     "text": [
      "120\n"
     ]
    }
   ],
   "source": [
    "def factorial(n):\n",
    "    if n==0:\n",
    "        return 1\n",
    "    return 1 if n==1 else n*factorial(n-1)\n",
    "\n",
    "print(factorial(5))"
   ]
  },
  {
   "cell_type": "markdown",
   "metadata": {},
   "source": [
    "## 4.3 Partial Permutations"
   ]
  },
  {
   "cell_type": "markdown",
   "metadata": {},
   "source": [
    "Let us make a few changes to the permute function we defined before to generate sets of partial permutations."
   ]
  },
  {
   "cell_type": "code",
   "execution_count": 9,
   "metadata": {
    "tags": []
   },
   "outputs": [],
   "source": [
    "def partial_permute(A,k):\n",
    "    if k==1:\n",
    "        return [(x,) for x in A]\n",
    "    permutations = []\n",
    "    for x in A:\n",
    "        for y in partial_permute(A-{x},k=k-1):\n",
    "            permutations.append((x,)+y)\n",
    "    return permutations"
   ]
  },
  {
   "cell_type": "code",
   "execution_count": 20,
   "metadata": {
    "tags": []
   },
   "outputs": [],
   "source": [
    "A = {1, 2, 3, 4}\n",
    "k = 3\n",
    "n = len(A)"
   ]
  },
  {
   "cell_type": "code",
   "execution_count": 21,
   "metadata": {},
   "outputs": [
    {
     "name": "stdout",
     "output_type": "stream",
     "text": [
      "3-permutations of {1, 2, 3, 4}: [(1, 2, 3), (1, 2, 4), (1, 3, 2), (1, 3, 4), (1, 4, 2), (1, 4, 3), (2, 1, 3), (2, 1, 4), (2, 3, 1), (2, 3, 4), (2, 4, 1), (2, 4, 3), (3, 1, 2), (3, 1, 4), (3, 2, 1), (3, 2, 4), (3, 4, 1), (3, 4, 2), (4, 1, 2), (4, 1, 3), (4, 2, 1), (4, 2, 3), (4, 3, 1), (4, 3, 2)]\n",
      "Size =  4!/(4-3)! = 24\n"
     ]
    }
   ],
   "source": [
    "# Using the custom functions\n",
    "permute_k = partial_permute(A,k)\n",
    "print(\"{}-permutations of {}: {}\".format(k,A,permute_k))\n",
    "print(\"Size = \", \"{}!/({}-{})! = {}\".format(n,n,k,len(permute_k)))"
   ]
  },
  {
   "cell_type": "markdown",
   "metadata": {},
   "source": [
    "We repeat the same using the `k` argument of the itertools.permutation function."
   ]
  },
  {
   "cell_type": "code",
   "execution_count": 22,
   "metadata": {},
   "outputs": [
    {
     "name": "stdout",
     "output_type": "stream",
     "text": [
      "3-permutations of {1, 2, 3, 4}: [(1, 2, 3), (1, 2, 4), (1, 3, 2), (1, 3, 4), (1, 4, 2), (1, 4, 3), (2, 1, 3), (2, 1, 4), (2, 3, 1), (2, 3, 4), (2, 4, 1), (2, 4, 3), (3, 1, 2), (3, 1, 4), (3, 2, 1), (3, 2, 4), (3, 4, 1), (3, 4, 2), (4, 1, 2), (4, 1, 3), (4, 2, 1), (4, 2, 3), (4, 3, 1), (4, 3, 2)]\n",
      "Size =  = 24\n"
     ]
    }
   ],
   "source": [
    "# Print all the k-permutations of A\n",
    "permute_k = list(itertools.permutations(A, k))\n",
    "print(\"{}-permutations of {}: {}\".format(k,A,permute_k))\n",
    "print(\"Size =  = {}\".format(len(permute_k)))"
   ]
  },
  {
   "cell_type": "markdown",
   "metadata": {},
   "source": [
    "Count using the formula introduced in lectures"
   ]
  },
  {
   "cell_type": "code",
   "execution_count": 23,
   "metadata": {},
   "outputs": [
    {
     "name": "stdout",
     "output_type": "stream",
     "text": [
      "Size = 4!/(4-3)!=24\n"
     ]
    }
   ],
   "source": [
    "# Print |A|!/(|A|-k)! directly\n",
    "print(\"Size = {}!/({}-{})!={}\".format(n,n,k,int(factorial(len(A))/factorial(len(A)-k))))"
   ]
  },
  {
   "cell_type": "markdown",
   "metadata": {},
   "source": [
    "## 4.4 Combinations\n",
    "We find the number of $k$-combinations of $A$, first by determining the set of combinations and then by simply calculating ${|A|}\\choose{k}$. To find all possible combinations we add an `if` condition before we add to the list. "
   ]
  },
  {
   "cell_type": "code",
   "execution_count": 113,
   "metadata": {},
   "outputs": [],
   "source": [
    "def combinations(\n",
    "    A = set(range(12)),\n",
    "    k = 5):\n",
    "    if k==1:\n",
    "        return [{x} for x in A]\n",
    "    sets = []\n",
    "    for x in A:\n",
    "        for y in combinations(A-{x},k=k-1):\n",
    "            if {x}|y not in sets:\n",
    "                sets.append({x}|y)\n",
    "    return sets\n",
    "\n",
    "# def combinations2(\n",
    "#     A = set(range(12)),\n",
    "#     k = 5):\n",
    "#     if k==1:\n",
    "#         return [frozenset([x]) for x in A]\n",
    "#     sets = set()\n",
    "#     for x in A:\n",
    "#         for y in combinations(A-{x},k=k-1):\n",
    "#             if frozenset({x}|y) not in sets:\n",
    "#                 sets.add(frozenset({x}|y))\n",
    "#     return frozenset(sets)"
   ]
  },
  {
   "cell_type": "code",
   "execution_count": 114,
   "metadata": {},
   "outputs": [],
   "source": [
    "# import timeit\n",
    "# %timeit combinations(k=7)"
   ]
  },
  {
   "cell_type": "code",
   "execution_count": 115,
   "metadata": {},
   "outputs": [],
   "source": [
    "# import timeit\n",
    "# %timeit combinations2(k=7)"
   ]
  },
  {
   "cell_type": "code",
   "execution_count": 116,
   "metadata": {
    "tags": []
   },
   "outputs": [],
   "source": [
    "A = {1, 2, 3, 4, 5}\n",
    "k = 3"
   ]
  },
  {
   "cell_type": "code",
   "execution_count": 117,
   "metadata": {},
   "outputs": [
    {
     "name": "stdout",
     "output_type": "stream",
     "text": [
      "3-combinations of {1, 2, 3, 4, 5}: [{1, 2, 3}, {1, 2, 4}, {1, 2, 5}, {1, 3, 4}, {1, 3, 5}, {1, 4, 5}, {2, 3, 4}, {2, 3, 5}, {2, 4, 5}, {3, 4, 5}]\n",
      "Number of combinations = 10\n"
     ]
    }
   ],
   "source": [
    "# Using the custom function\n",
    "choose_k = combinations(A,k)\n",
    "print(\"{}-combinations of {}: {}\".format(k,A,choose_k))\n",
    "print(\"Number of combinations = {}\" .format(len(choose_k)  ))"
   ]
  },
  {
   "cell_type": "markdown",
   "metadata": {},
   "source": [
    "We can do the same using the `itertools.combinations` function also."
   ]
  },
  {
   "cell_type": "code",
   "execution_count": 118,
   "metadata": {
    "scrolled": true
   },
   "outputs": [
    {
     "name": "stdout",
     "output_type": "stream",
     "text": [
      "3-combinations of {1, 2, 3, 4, 5}: [(1, 2, 3), (1, 2, 4), (1, 2, 5), (1, 3, 4), (1, 3, 5), (1, 4, 5), (2, 3, 4), (2, 3, 5), (2, 4, 5), (3, 4, 5)]\n",
      "Number of combinations = 10\n"
     ]
    }
   ],
   "source": [
    "# Print all the k-combinations of A\n",
    "choose_k = list(itertools.combinations(A,k))\n",
    "print(\"{}-combinations of {}: {}\".format(k,A,choose_k))\n",
    "print(\"Number of combinations = {}\".format(len(choose_k)  ))"
   ]
  },
  {
   "cell_type": "code",
   "execution_count": 119,
   "metadata": {},
   "outputs": [
    {
     "name": "stdout",
     "output_type": "stream",
     "text": [
      "Size = %4!/(%3!(%4-%3)!)=10\n"
     ]
    }
   ],
   "source": [
    "# Print |A|!/(k!(|A|-k)!) directly\n",
    "print(\"Size = %{}!/(%{}!(%{}-%{})!)={}\".format(n,k,n,k,int(factorial(len(A))/(factorial(k)*factorial(len(A)-k)))))"
   ]
  },
  {
   "cell_type": "markdown",
   "metadata": {},
   "source": [
    "If you want to concatenate characters such as letters of the English alphabet and print them as strings, you can use the <i>join()</i> function."
   ]
  },
  {
   "cell_type": "code",
   "execution_count": 120,
   "metadata": {
    "tags": []
   },
   "outputs": [],
   "source": [
    "A = {'a', 'b', 'c', 'q'}\n",
    "k = 3"
   ]
  },
  {
   "cell_type": "code",
   "execution_count": 121,
   "metadata": {},
   "outputs": [
    {
     "name": "stdout",
     "output_type": "stream",
     "text": [
      "3-permutations of {'c', 'a', 'q', 'b'}:\n",
      "cba\n",
      "cbq\n",
      "caq\n",
      "cab\n",
      "cqa\n",
      "cqb\n",
      "acq\n",
      "acb\n",
      "abc\n",
      "abq\n",
      "aqc\n",
      "aqb\n",
      "qca\n",
      "qcb\n",
      "qac\n",
      "qab\n",
      "qbc\n",
      "qba\n",
      "bca\n",
      "bcq\n",
      "bac\n",
      "baq\n",
      "bqc\n",
      "bqa\n"
     ]
    }
   ],
   "source": [
    "permute_k = partial_permute(A,k)\n",
    "permute_k = [''.join(x) for x in permute_k]\n",
    "print(\"{}-permutations of {}:\".format(k,A))\n",
    "for x in permute_k:\n",
    "    print(x)"
   ]
  },
  {
   "cell_type": "code",
   "execution_count": 122,
   "metadata": {},
   "outputs": [
    {
     "name": "stdout",
     "output_type": "stream",
     "text": [
      "24\n"
     ]
    }
   ],
   "source": [
    "# Print |A|!/(|A|-k)! directly\n",
    "print(int(factorial(len(A))/factorial(len(A)-k)))"
   ]
  },
  {
   "cell_type": "code",
   "execution_count": 123,
   "metadata": {
    "tags": []
   },
   "outputs": [],
   "source": [
    "A = {'a', 'b', 'c', 'd'}\n",
    "k = 2"
   ]
  },
  {
   "cell_type": "code",
   "execution_count": 124,
   "metadata": {},
   "outputs": [
    {
     "name": "stdout",
     "output_type": "stream",
     "text": [
      "2-combinations of {'c', 'a', 'b', 'd'}:\n",
      "\n",
      "ca\n",
      "cb\n",
      "cd\n",
      "ad\n",
      "ab\n",
      "db\n",
      "Size = 4!/(2!(4-2)!) =  6\n"
     ]
    }
   ],
   "source": [
    "# Print all the k-combinations of A\n",
    "choose_k = list(combinations(A,k))\n",
    "print(\"%i-combinations of %s:\\n\" %(k,A))\n",
    "for i in range(0, len(choose_k)):\n",
    "    print(''.join(choose_k[i]) )\n",
    "print;print(\"Size = %i!/(%i!(%i-%i)!) = \" %(n,k,n,k), len(choose_k))"
   ]
  },
  {
   "cell_type": "code",
   "execution_count": 125,
   "metadata": {},
   "outputs": [
    {
     "name": "stdout",
     "output_type": "stream",
     "text": [
      "6\n"
     ]
    }
   ],
   "source": [
    "# Print |A|!/(k!(|A|-k)!) directly\n",
    "print(int(factorial(len(A))/(factorial(k)*factorial(len(A)-k))))"
   ]
  },
  {
   "cell_type": "markdown",
   "metadata": {},
   "source": [
    "## 4.5 Stirling's approximation \n",
    "\n",
    "The following interactive graphs are helpful in understanding Stirling's approximation of the factorial function.Use the slider to vary value of $n$. For more details about Stirling's approximation review lecture videos. We will go into more details on the libraries imported in the following cell in future lecture. "
   ]
  },
  {
   "cell_type": "code",
   "execution_count": 126,
   "metadata": {
    "tags": []
   },
   "outputs": [],
   "source": [
    "import ipywidgets as widgets\n",
    "from IPython.display import display\n",
    "import numpy as np\n",
    "import pandas as pd\n",
    "from mpl_toolkits.axes_grid1 import host_subplot\n",
    "import mpl_toolkits.axisartist as AA\n",
    "import matplotlib.pyplot as plt"
   ]
  },
  {
   "cell_type": "code",
   "execution_count": 127,
   "metadata": {},
   "outputs": [
    {
     "data": {
      "application/vnd.jupyter.widget-view+json": {
       "model_id": "280f85fa0fa34a2fb04b296596cf38cb",
       "version_major": 2,
       "version_minor": 0
      },
      "text/plain": [
       "interactive(children=(IntSlider(value=51, description='n', min=2), Output()), _dom_classes=('widget-interact',…"
      ]
     },
     "metadata": {},
     "output_type": "display_data"
    }
   ],
   "source": [
    "@widgets.interact(n=(2,100))\n",
    "def plot_stirling_approx(n):\n",
    "    n_fact = []\n",
    "    n_fact_approx = []\n",
    "\n",
    "    for i in range(1,n+1):\n",
    "        n_fact.append(np.double(factorial(i)))\n",
    "        n_fact_approx.append(np.double(np.sqrt(2*np.pi*i)*(i/np.e)**i))\n",
    "\n",
    "    plt.figure(figsize=(12,9))\n",
    "    host = host_subplot(111,axes_class=AA.Axes)\n",
    "    plt.subplots_adjust(right=0.75)\n",
    "    \n",
    "    par1 = host.twinx()\n",
    "    \n",
    "    plt.title(\"Comparison between n! and Stirling approximation\",fontsize=20)\n",
    "    host.semilogy(range(1,n+1),n_fact,linewidth=2,label=\"Factorial\")\n",
    "    host.semilogy(range(1,n+1),n_fact_approx,linewidth=2,label=\"Stirling's approximation\")\n",
    "    \n",
    "    host.set_xlabel(\"n\",fontsize=16)\n",
    "    host.set_ylabel(\"n!\",fontsize=16)\n",
    "        \n",
    "    error = (np.asarray(n_fact)-np.asarray(n_fact_approx))/np.asarray(n_fact)\n",
    "    \n",
    "    p1, = par1.semilogy(range(1,n+1),error*100,linewidth=2,label=\"Error %\")\n",
    "    par1.set_ylabel(\"Error %\",fontsize=16)\n",
    "    par1.axis[\"right\"]\n",
    "    par1.axis[\"right\"].label.set_color(p1.get_color())\n",
    "    host.legend(fontsize=14)\n",
    "\n",
    "    plt.show()"
   ]
  },
  {
   "cell_type": "code",
   "execution_count": 128,
   "metadata": {},
   "outputs": [
    {
     "name": "stdout",
     "output_type": "stream",
     "text": [
      "Comparison between n! and stirling approximation\n",
      " n                 n! Stirling Approximation    Error %\n",
      " 1                  1                   0.00 100.000000\n",
      " 2                  1                   0.92   8.000000\n",
      " 3                  2                   1.92   4.000000\n",
      " 4                  6                   5.84   2.666667\n",
      " 5                 24                  23.51   2.041667\n",
      " 6                120                 118.02   1.650000\n",
      " 7                720                 710.08   1.377778\n",
      " 8               5040                4980.40   1.182540\n",
      " 9              40320               39902.40   1.035714\n",
      "10             362880              359536.87   0.921277\n",
      "11            3628800             3598695.62   0.829596\n",
      "12           39916800            39615625.05   0.754507\n",
      "13          479001600           475687486.47   0.691879\n",
      "14         6227020800          6187239475.19   0.638850\n",
      "15        87178291200         86661001740.60   0.593370\n",
      "16      1307674368000       1300430722199.47   0.553933\n",
      "17     20922789888000      20814114415223.14   0.519412\n",
      "18    355687428096000     353948328666101.12   0.488940\n",
      "19   6402373705728000    6372804626194313.00   0.461846\n",
      "20 121645100408832000  121112786592294192.00   0.437596\n"
     ]
    },
    {
     "name": "stderr",
     "output_type": "stream",
     "text": [
      "<ipython-input-128-13eb9b229ab1>:6: DeprecationWarning: `np.float` is a deprecated alias for the builtin `float`. To silence this warning, use `float` by itself. Doing this will not modify any behavior and is safe. If you specifically wanted the numpy scalar type, use `np.float64` here.\n",
      "Deprecated in NumPy 1.20; for more details and guidance: https://numpy.org/devdocs/release/1.20.0-notes.html#deprecations\n",
      "  error = (np.asarray(n_fact)-np.asarray(n_fact_approx,dtype=np.float))/np.asarray(n_fact)\n"
     ]
    }
   ],
   "source": [
    "float_formatter = lambda x: \"%.2f\" % x\n",
    "n=20\n",
    "n_fact = [factorial(i) for i in range(n)]\n",
    "n_fact_approx = [float_formatter(np.sqrt(2*np.pi*i)*(i/np.e)**i) for i in range(n)]\n",
    "    \n",
    "error = (np.asarray(n_fact)-np.asarray(n_fact_approx,dtype=np.float))/np.asarray(n_fact)\n",
    "data = {\"n\":range(1,n+1),\"n!\":n_fact,\"Stirling Approximation\":n_fact_approx,\"Error %\":error*100}\n",
    "df = pd.DataFrame(data=data,columns=[\"n\",\"n!\",\"Stirling Approximation\",\"Error %\"])\n",
    "df.set_index(\"n\")\n",
    "print(\"Comparison between n! and stirling approximation\")\n",
    "print(df.to_string(index=False))"
   ]
  },
  {
   "cell_type": "markdown",
   "metadata": {},
   "source": [
    "The following code plots a graph that should help to better understand the approximation done in the lectures. "
   ]
  },
  {
   "cell_type": "code",
   "execution_count": 129,
   "metadata": {},
   "outputs": [
    {
     "data": {
      "image/png": "[encoded data removed]",
      "text/plain": [
       "<Figure size 864x648 with 1 Axes>"
      ]
     },
     "metadata": {
      "needs_background": "light"
     },
     "output_type": "display_data"
    }
   ],
   "source": [
    "n = np.arange(0.1,5,0.01)\n",
    "n_int = np.arange(1,5)\n",
    "plt.figure(figsize=(12,9))\n",
    "\n",
    "plt.plot(n,np.log(n),color='b',label=\"ln(x)\")\n",
    "n_new = n\n",
    "n_new[0]=0\n",
    "plt.plot(n_new,np.log(n+1),color='r',label='ln(x+1)')\n",
    "plt.plot(n_int,np.log(n_int),color='k')\n",
    "plt.bar(n_int-1, np.log(n_int),align=\"edge\",width=1,color='g',alpha=0.2,linewidth=2,label=r\"ln($ \\lceil x  \\rceil $)\",fill=True,edgecolor=\"k\")\n",
    "plt.ylim(-0.2,np.log(5))\n",
    "plt.xlim(0,4)\n",
    "plt.ylabel(\"ln(n)\",fontsize=16)\n",
    "plt.xticks([1,2,3,4],[\"1\",\"2\",\"3\",\"4\"])\n",
    "plt.yticks(np.log(n_int),[\"ln(1)=0\",\"ln(2)\",\"ln(3)\",\"ln(4)\"])\n",
    "plt.legend(fontsize=16)\n",
    "plt.show()"
   ]
  },
  {
   "cell_type": "markdown",
   "metadata": {},
   "source": []
  }
 ],
 "metadata": {
  "kernelspec": {
   "display_name": "Python 3",
   "language": "python",
   "name": "python3"
  },
  "language_info": {
   "codemirror_mode": {
    "name": "ipython",
    "version": 3
   },
   "file_extension": ".py",
   "mimetype": "text/x-python",
   "name": "python",
   "nbconvert_exporter": "python",
   "pygments_lexer": "ipython3",
   "version": "3.8.8"
  },
  "toc": {
   "base_numbering": 1,
   "nav_menu": {
    "height": "48px",
    "width": "252px"
   },
   "number_sections": true,
   "sideBar": true,
   "skip_h1_title": false,
   "title_cell": "Table of Contents",
   "title_sidebar": "Contents",
   "toc_cell": false,
   "toc_position": {},
   "toc_section_display": "block",
   "toc_window_display": false
  },
  "varInspector": {
   "cols": {
    "lenName": 16,
    "lenType": 16,
    "lenVar": 40
   },
   "kernels_config": {
    "python": {
     "delete_cmd_postfix": "",
     "delete_cmd_prefix": "del ",
     "library": "var_list.py",
     "varRefreshCmd": "print(var_dic_list())"
    },
    "r": {
     "delete_cmd_postfix": ") ",
     "delete_cmd_prefix": "rm(",
     "library": "var_list.r",
     "varRefreshCmd": "cat(var_dic_list()) "
    }
   },
   "types_to_exclude": [
    "module",
    "function",
    "builtin_function_or_method",
    "instance",
    "_Feature"
   ],
   "window_display": false
  }
 },
 "nbformat": 4,
 "nbformat_minor": 4
}

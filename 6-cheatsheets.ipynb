{
 "cells": [
  {
   "cell_type": "markdown",
   "id": "b72d2367-4631-4cfc-9401-0dd0269e2dea",
   "metadata": {},
   "source": [
    "# Topic 6: Conditional Probability"
   ]
  },
  {
   "cell_type": "markdown",
   "id": "545995a3-3ae2-4096-b6c5-78fd8fc4c4e3",
   "metadata": {},
   "source": [
    "- ## [Independence](./6.2_Independence-new-compressed.pdf)\n",
    "- ## [Independence](./6.2_Independence-new-compressed.pdf)\n",
    "- ## [Independence](./6.2_Independence-new-compressed.pdf)\n",
    "- ## [Independence](./6.2_Independence-new-compressed.pdf)\n",
    "- ## [Independence](./6.2_Independence-new-compressed.pdf)\n",
    "- ## [Independence](./6.2_Independence-new-compressed.pdf)"
   ]
  },
  {
   "cell_type": "markdown",
   "id": "5c6dab3a-7f76-47bb-bf3b-0a2596e8cc26",
   "metadata": {},
   "source": [
    "### $E$ and $F$ are independent if \n",
    "## $$ P(E \\cap F) = P(E) \\cdot P(F) $$\n",
    "### or\n",
    "## $$ P(F) = P(F|E) \\triangleq \\frac{P(E \\cap F)}{P(E)} $$"
   ]
  },
  {
   "cell_type": "markdown",
   "id": "de0bcff0-6682-452d-8baf-1c74206024e9",
   "metadata": {},
   "source": []
  }
 ],
 "metadata": {
  "kernelspec": {
   "display_name": "Python 3",
   "language": "python",
   "name": "python3"
  },
  "language_info": {
   "codemirror_mode": {
    "name": "ipython",
    "version": 3
   },
   "file_extension": ".py",
   "mimetype": "text/x-python",
   "name": "python",
   "nbconvert_exporter": "python",
   "pygments_lexer": "ipython3",
   "version": "3.6.15"
  }
 },
 "nbformat": 4,
 "nbformat_minor": 5
}
